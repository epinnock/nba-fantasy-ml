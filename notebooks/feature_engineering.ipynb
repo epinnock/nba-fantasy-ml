{
 "cells": [
  {
   "cell_type": "markdown",
   "metadata": {},
   "source": [
    "# NBA Fantasy Feature Engineering\n",
    "\n",
    "This notebook implements the feature engineering methodology from Papageorgiou et al. (2024), creating features for NBA player performance prediction.\n",
    "\n",
    "## Setup and Data Loading"
   ]
  },
  {
   "cell_type": "code",
   "execution_count": null,
   "metadata": {},
   "source": [
    "import sys\n",
    "sys.path.append('..')\n",
    "\n",
    "import pandas as pd\n",
    "import numpy as np\n",
    "import matplotlib.pyplot as plt\n",
    "import seaborn as sns\n",
    "import yaml\n",
    "from datetime import datetime\n",
    "\n",
    "from src.data.processor import DataProcessor\n",
    "from src.features.builder import FeatureBuilder\n",
    "\n",
    "# Set plotting style\n",
    "plt.style.use('seaborn')\n",
    "%matplotlib inline"
   ]
  },
  {
   "cell_type": "code",
   "execution_count": null,
   "metadata": {},
   "source": [
    "# Load raw data\n",
    "raw_games = pd.read_csv('../data/raw/all_games.csv')\n",
    "player_info = pd.read_csv('../data/raw/player_info.csv')\n",
    "\n",
    "# Load configuration\n",
    "with open('../config.yaml', 'r') as f:\n",
    "    config = yaml.safe_load(f)\n",
    "\n",
    "print(f\"Loaded {len(raw_games)} game records for {len(player_info)} players\")"
   ]
  },
  {
   "cell_type": "markdown",
   "metadata": {},
   "source": [
    "## Initial Data Processing\n",
    "\n",
    "Before feature engineering, we need to process the raw data and calculate fantasy points."
   ]
  },
  {
   "cell_type": "code",
   "execution_count": null,
   "metadata": {},
   "source": [
    "processor = DataProcessor()\n",
    "\n",
    "# Calculate fantasy points\n",
    "games_df = processor.calculate_fantasy_points(raw_games)\n",
    "\n",
    "# Sort by player and date\n",
    "games_df['GAME_DATE'] = pd.to_datetime(games_df['GAME_DATE'])\n",
    "games_df = games_df.sort_values(['PLAYER_ID', 'GAME_DATE'])\n",
    "\n",
    "# Show fantasy points distribution\n",
    "plt.figure(figsize=(10, 6))\n",
    "sns.histplot(data=games_df, x='FANTASY_POINTS')\n",
    "plt.title('Distribution of Fantasy Points')\n",
    "plt.show()"
   ]
  },
  {
   "cell_type": "markdown",
   "metadata": {},
   "source": [
    "## Feature Engineering\n",
    "\n",
    "Following the paper's methodology, we'll create three types of features:\n",
    "1. Lag features (previous game performance)\n",
    "2. Rolling statistics (moving averages)\n",
    "3. Momentum indicators"
   ]
  },
  {
   "cell_type": "code",
   "execution_count": null,
   "metadata": {},
   "source": [
    "builder = FeatureBuilder()\n",
    "\n",
    "# Create lag features\n",
    "lag_columns = ['FANTASY_POINTS', 'PTS', 'REB', 'AST', 'MIN']\n",
    "lag_periods = [1, 3, 5, 7, 10]\n",
    "\n",
    "features_df = builder.create_lag_features(\n",
    "    games_df,\n",
    "    columns=lag_columns,\n",
    "    lags=lag_periods\n",
    ")\n",
    "\n",
    "print(\"Created lag features:\")\n",
    "print([col for col in features_df.columns if 'lag' in col][:5])"
   ]
  },
  {
   "cell_type": "code",
   "execution_count": null,
   "metadata": {},
   "source": [
    "# Create rolling features\n",
    "features_df = builder.create_rolling_features(\n",
    "    features_df,\n",
    "    columns=['FANTASY_POINTS', 'PTS', 'REB', 'AST'],\n",
    "    windows=[3, 5, 7]\n",
    ")\n",
    "\n",
    "print(\"\\nCreated rolling features:\")\n",
    "print([col for col in features_df.columns if 'rolling' in col][:5])"
   ]
  },
  {
   "cell_type": "code",
   "execution_count": null,
   "metadata": {},
   "source": [
    "# Create momentum features\n",
    "features_df = builder.create_momentum_features(features_df)\n",
    "\n",
    "print(\"\\nCreated momentum features:\")\n",
    "print([col for col in features_df.columns if 'momentum' in col])"
   ]
  },
  {
   "cell_type": "markdown",
   "metadata": {},
   "source": [
    "## Feature Analysis\n",
    "\n",
    "Let's analyze the relationships between our engineered features and fantasy points."
   ]
  },
  {
   "cell_type": "code",
   "execution_count": null,
   "metadata": {},
   "source": [
    "def plot_feature_correlations(df, target='FANTASY_POINTS', n_features=10):\n",
    "    \"\"\"Plot top feature correlations with target.\"\"\"\n",
    "    correlations = df.corr()[target].sort_values(ascending=False)\n",
    "    correlations = correlations[1:n_features+1]  # Exclude target itself\n",
    "    \n",
    "    plt.figure(figsize=(12, 6))\n",
    "    correlations.plot(kind='bar')\n",
    "    plt.title(f'Top {n_features} Feature Correlations with {target}')\n",
    "    plt.xticks(rotation=45, ha='right')\n",
    "    plt.tight_layout()\n",
    "    plt.show()\n",
    "\n",
    "plot_feature_correlations(features_df)"
   ]
  },
  {
   "cell_type": "markdown",
   "metadata": {},
   "source": [
    "## Feature Selection\n",
    "\n",
    "Remove highly correlated features to prevent multicollinearity."
   ]
  },
  {
   "cell_type": "code",
   "execution_count": null,
   "metadata": {},
   "source": [
    "def remove_correlated_features(df, threshold=0.95):\n",
    "    \"\"\"Remove highly correlated features.\"\"\"\n",
    "    corr_matrix = df.corr().abs()\n",
    "    upper = corr_matrix.where(np.triu(np.ones(corr_matrix.shape), k=1).astype(bool))\n",
    "    to_drop = [column for column in upper.columns if any(upper[column] > threshold)]\n",
    "    \n",
    "    print(f\"Removing {len(to_drop)} highly correlated features\")\n",
    "    return df.drop(columns=to_drop)\n",
    "\n",
    "# Remove correlated features\n",
    "features_df = remove_correlated_features(features_df)\n",
    "print(f\"Final feature set shape: {features_df.shape}\")"
   ]
  },
  {
   "cell_type": "markdown",
   "metadata": {},
   "source": [
    "## Feature Importance Analysis\n",
    "\n",
    "Use Random Forest to analyze feature importance."
   ]
  },
  {
   "cell_type": "code",
   "execution_count": null,
   "metadata": {},
   "source": [
    "from sklearn.ensemble import RandomForestRegressor\n",
    "\n",
    "def plot_feature_importance(df, target='FANTASY_POINTS', n_features=15):\n",
    "    \"\"\"Plot feature importance using Random Forest.\"\"\"\n",
    "    # Prepare data\n",
    "    X = df.drop(columns=[target]).select_dtypes(include=[np.number])\n",
    "    y = df[target]\n",
    "    \n",
    "    # Train Random Forest\n",
    "    rf = RandomForestRegressor(n_estimators=100, random_state=42)\n",
    "    rf.fit(X, y)\n",
    "    \n",
    "    # Get feature importance\n",
    "    importance = pd.DataFrame({\n",
    "        'feature': X.columns,\n",
    "        'importance': rf.feature_importances_\n",
    "    }).sort_values('importance', ascending=False)\n",
    "    \n",
    "    # Plot\n",
    "    plt.figure(figsize=(12, 6))\n",
    "    plt.bar(importance['feature'][:n_features], importance['importance'][:n_features])\n",
    "    plt.title(f'Top {n_features} Most Important Features')\n",
    "    plt.xticks(rotation=45, ha='right')\n",
    "    plt.tight_layout()\n",
    "    plt.show()\n",
    "    \n",
    "plot_feature_importance(features_df)"
   ]
  },
  {
   "cell_type": "markdown",
   "metadata": {},
   "source": [
    "## Save Processed Features"
   ]
  },
  {
   "cell_type": "code",
   "execution_count": null,
   "metadata": {},
   "source": [
    "# Save processed features\n",
    "features_df.to_csv('../data/processed/features.csv', index=False)\n",
    "\n",
    "# Save feature metadata\n",
    "feature_metadata = pd.DataFrame({\n",
    "    'feature': features_df.columns,\n",
    "    'type': ['lag' if 'lag' in col else 'rolling' if 'rolling' in col \n",
    "             else 'momentum' if 'momentum' in col else 'basic'\n",
    "             for col in features_df.columns]\n",
    "})\n",
    "feature_metadata.to_csv('../data/processed/feature_metadata.csv', index=False)\n",
    "\n",
    "print(\"Features saved successfully!\")"
   ]
  },
  {
   "cell_type": "markdown",
   "metadata": {},
   "source": [
    "## Feature Summary\n",
    "\n",
    "1. Total features created: {features_df.shape[1]}\n",
    "2. Types of features:\n",
    "   - Lag features: {sum('lag' in col for col in features_df.columns)}\n",
    "   - Rolling features: {sum('rolling' in col for col in features_df.columns)}\n",
    "   - Momentum features: {sum('momentum' in col for col in features_df.columns)}\n",
    "   \n",
    "Next steps:\n",
    "1. Model training using these engineered features\n",
    "2. Feature selection during model development\n",
    "3. Performance evaluation with different feature sets"
   ]
  }
 ],
 "metadata": {
  "kernelspec": {
   "display_name": "Python 3",
   "language": "python",
   "name": "python3"
  },
  "language_info": {
   "codemirror_mode": {
    "name": "ipython",
    "version": 3
   },
   "file_extension": ".py",
   "mimetype": "text/x-python",
   "name": "python",
   "nbconvert_exporter": "python",
   "pygments_lexer": "ipython3",
   "version": "3.8.0"
  }
 },
 "nbformat": 4,
 "nbformat_minor": 4
}
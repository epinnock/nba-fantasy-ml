{
 "cells": [
  {
   "cell_type": "markdown",
   "metadata": {},
   "source": [
    "# NBA Fantasy Lineup Optimization\n",
    "\n",
    "This notebook implements the lineup optimization methodology from Papageorgiou et al. (2024), using trained models to optimize DFS lineups.\n",
    "\n",
    "## Setup and Data Loading"
   ]
  },
  {
   "cell_type": "code",
   "execution_count": null,
   "metadata": {},
   "source": [
    "import sys\n",
    "sys.path.append('..')\n",
    "\n",
    "import pandas as pd\n",
    "import numpy as np\n",
    "import matplotlib.pyplot as plt\n",
    "import seaborn as sns\n",
    "import yaml\n",
    "from datetime import datetime\n",
    "import joblib\n",
    "\n",
    "from src.models.predictor import Predictor\n",
    "from src.optimization.lineup import LineupOptimizer, Player\n",
    "\n",
    "# Set plotting style\n",
    "plt.style.use('seaborn')\n",
    "%matplotlib inline"
   ]
  },
  {
   "cell_type": "code",
   "execution_count": null,
   "metadata": {},
   "source": [
    "# Load configuration\n",
    "with open('../config.yaml', 'r') as f:\n",
    "    config = yaml.safe_load(f)\n",
    "\n",
    "# Load player info and latest features\n",
    "player_info = pd.read_csv('../data/raw/player_info.csv')\n",
    "latest_features = pd.read_csv('../data/processed/features.csv')"
   ]
  },
  {
   "cell_type": "markdown",
   "metadata": {},
   "source": [
    "## Load Models and Make Predictions"
   ]
  },
  {
   "cell_type": "code",
   "execution_count": null,
   "metadata": {},
   "source": [
    "def load_player_model(player_id):\n",
    "    \"\"\"Load trained model for a player.\"\"\"\n",
    "    try:\n",
    "        return joblib.load(f'../models/player_{player_id}.joblib')\n",
    "    except:\n",
    "        return None\n",
    "\n",
    "def get_latest_features(df, player_id):\n",
    "    \"\"\"Get latest feature values for a player.\"\"\"\n",
    "    player_data = df[df['PLAYER_ID'] == player_id].copy()\n",
    "    player_data['GAME_DATE'] = pd.to_datetime(player_data['GAME_DATE'])\n",
    "    return player_data.sort_values('GAME_DATE').iloc[-1]\n",
    "\n",
    "# Make predictions for all players\n",
    "predictions = []\n",
    "for _, player in player_info.iterrows():\n",
    "    player_id = player['PLAYER_ID']\n",
    "    model = load_player_model(player_id)\n",
    "    \n",
    "    if model is not None:\n",
    "        features = get_latest_features(latest_features, player_id)\n",
    "        predictor = Predictor(model)\n",
    "        \n",
    "        predictions.append({\n",
    "            'player_id': player_id,\n",
    "            'name': player['PLAYER_NAME'],\n",
    "            'position': player['POSITION'],\n",
    "            'team': player['TEAM_ABBREVIATION'],\n",
    "            'predicted_fp': predictor.predict(features.to_frame().T)[0]\n",
    "        })\n",
    "\n",
    "predictions_df = pd.DataFrame(predictions)\n",
    "print(f\"Generated predictions for {len(predictions_df)} players\")"
   ]
  },
  {
   "cell_type": "markdown",
   "metadata": {},
   "source": [
    "## Load DFS Salary Data\n",
    "\n",
    "For this example, we'll simulate DraftKings salaries."
   ]
  },
  {
   "cell_type": "code",
   "execution_count": null,
   "metadata": {},
   "source": [
    "def simulate_salaries(predictions_df, base_salary=5000, fp_multiplier=100):\n",
    "    \"\"\"Simulate DraftKings salaries based on predicted performance.\"\"\"\n",
    "    salaries = base_salary + (predictions_df['predicted_fp'] * fp_multiplier)\n",
    "    return np.clip(salaries.round(-2), 3000, 12000)  # DraftKings salary range\n",
    "\n",
    "# Add simulated salaries\n",
    "predictions_df['salary'] = simulate_salaries(predictions_df)\n",
    "\n",
    "# Display salary distribution\n",
    "plt.figure(figsize=(10, 6))\n",
    "sns.histplot(data=predictions_df, x='salary')\n",
    "plt.title('Distribution of Player Salaries')\n",
    "plt.show()"
   ]
  },
  {
   "cell_type": "markdown",
   "metadata": {},
   "source": [
    "## Value Analysis\n",
    "\n",
    "Analyze projected points per salary dollar."
   ]
  },
  {
   "cell_type": "code",
   "execution_count": null,
   "metadata": {},
   "source": [
    "# Calculate value metrics\n",
    "predictions_df['value'] = predictions_df['predicted_fp'] / (predictions_df['salary'] / 1000)\n",
    "\n",
    "# Plot top value players\n",
    "plt.figure(figsize=(12, 6))\n",
    "top_value = predictions_df.nlargest(15, 'value')\n",
    "sns.barplot(data=top_value, x='value', y='name')\n",
    "plt.title('Top 15 Players by Value (FP/$1000)')\n",
    "plt.tight_layout()\n",
    "plt.show()"
   ]
  },
  {
   "cell_type": "markdown",
   "metadata": {},
   "source": [
    "## Create Player Objects"
   ]
  },
  {
   "cell_type": "code",
   "execution_count": null,
   "metadata": {},
   "source": [
    "def create_player_objects(df):\n",
    "    \"\"\"Create Player objects for optimization.\"\"\"\n",
    "    players = []\n",
    "    for _, row in df.iterrows():\n",
    "        positions = set(row['position'].split('/'))\n",
    "        player = Player(\n",
    "            id=row['player_id'],\n",
    "            name=row['name'],\n",
    "            positions=positions,\n",
    "            salary=int(row['salary']),\n",
    "            predicted_fp=float(row['predicted_fp']),\n",
    "            team=row['team'],\n",
    "            opponent='TBD'  # In practice, get from schedule\n",
    "        )\n",
    "        players.append(player)\n",
    "    return players\n",
    "\n",
    "available_players = create_player_objects(predictions_df)\n",
    "print(f\"Created {len(available_players)} player objects\")"
   ]
  },
  {
   "cell_type": "markdown",
   "metadata": {},
   "source": [
    "## Optimize Lineups"
   ]
  },
  {
   "cell_type": "code",
   "execution_count": null,
   "metadata": {},
   "source": [
    "# Initialize optimizer\n",
    "optimizer = LineupOptimizer(config)\n",
    "\n",
    "# Generate multiple lineups\n",
    "num_lineups = 5\n",
    "lineups = optimizer.optimize_lineup(available_players, num_lineups=num_lineups)\n",
    "\n",
    "print(f\"Generated {len(lineups)} optimal lineups\")\n",
    "\n",
    "# Display lineups\n",
    "for i, lineup in enumerate(lineups, 1):\n",
    "    print(f\"\\nLineup {i}:\")\n",
    "    print(f\"Projected FP: {lineup.predicted_fp:.2f}\")\n",
    "    print(f\"Total Salary: ${lineup.total_salary:,}\")\n",
    "    print(\"\\nPlayers:\")\n",
    "    for player in lineup.players:\n",
    "        print(f\"- {player.name} ({', '.join(player.positions)}) - ${player.salary:,} - {player.predicted_fp:.1f} FP\")"
   ]
  },
  {
   "cell_type": "markdown",
   "metadata": {},
   "source": [
    "## Lineup Analysis"
   ]
  },
  {
   "cell_type": "code",
   "execution_count": null,
   "metadata": {},
   "source": [
    "def analyze_lineup_diversity(lineups):\n",
    "    \"\"\"Analyze player usage across lineups.\"\"\"\n",
    "    player_usage = {}\n",
    "    for lineup in lineups:\n",
    "        for player in lineup.players:\n",
    "            player_usage[player.name] = player_usage.get(player.name, 0) + 1\n",
    "            \n",
    "    usage_df = pd.DataFrame({\n",
    "        'player': list(player_usage.keys()),\n",
    "        'usage': list(player_usage.values())\n",
    "    }).sort_values('usage', ascending=False)\n",
    "    \n",
    "    plt.figure(figsize=(12, 6))\n",
    "    sns.barplot(data=usage_df.head(15), x='usage', y='player')\n",
    "    plt.title('Most Common Players Across Lineups')\n",
    "    plt.tight_layout()\n",
    "    plt.show()\n",
    "    \n",
    "analyze_lineup_diversity(lineups)"
   ]
  },
  {
   "cell_type": "code",
   "execution_count": null,
   "metadata": {},
   "source": [
    "def analyze_salary_distribution(lineups):\n",
    "    \"\"\"Analyze salary distribution within lineups.\"\"\"\n",
    "    all_salaries = []\n",
    "    all_positions = []\n",
    "    \n",
    "    for lineup in lineups:\n",
    "        for player in lineup.players:\n",
    "            all_salaries.append(player.salary)\n",
    "            all_positions.extend(player.positions)\n",
    "            \n",
    "    plt.figure(figsize=(12, 5))\n",
    "    \n",
    "    plt.subplot(1, 2, 1)\n",
    "    sns.boxplot(y=all_salaries)\n",
    "    plt.title('Salary Distribution in Lineups')\n",
    "    \n",
    "    plt.subplot(1, 2, 2)\n",
    "    position_counts = pd.Series(all_positions).value_counts()\n",
    "    sns.barplot(x=position_counts.index, y=position_counts.values)\n",
    "    plt.title('Position Distribution')\n",
    "    \n",
    "    plt.tight_layout()\n",
    "    plt.show()\n",
    "    \n",
    "analyze_salary_distribution(lineups)"
   ]
  },
  {
   "cell_type": "markdown",
   "metadata": {},
   "source": [
    "## Lineup Performance Analysis"
   ]
  },
  {
   "cell_type": "code",
   "execution_count": null,
   "metadata": {},
   "source": [
    "def analyze_lineup_performance(lineups):\n",
    "    \"\"\"Analyze projected performance of lineups.\"\"\"\n",
    "    performance_data = [\n",
    "        {\n",
    "            'lineup': i+1,\n",
    "            'projected_fp': lineup.predicted_fp,\n",
    "            'total_salary': lineup.total_salary,\n",
    "            'avg_value': lineup.predicted_fp / (lineup.total_salary / 1000)\n",
    "        }\n",
    "        for i, lineup in enumerate(lineups)\n",
    "    ]\n",
    "    \n",
    "    perf_df = pd.DataFrame(performance_data)\n",
    "    \n",
    "    # Plot comparisons\n",
    "    fig, axes = plt.subplots(1, 3, figsize=(15, 5))\n",
    "    \n",
    "    sns.barplot(data=perf_df, x='lineup', y='projected_fp', ax=axes[0])\n",
    "    axes[0].set_title('Projected Fantasy Points')\n",
    "    \n",
    "    sns.barplot(data=perf_df, x='lineup', y='total_salary', ax=axes[1])\n",
    "    axes[1].set_title('Total Salary')\n",
    "    \n",
    "    sns.barplot(data=perf_df, x='lineup', y='avg_value', ax=axes[2])\n",
    "    axes[2].set_title('Value (FP/$1000)')\n",
    "    \n",
    "    plt.tight_layout()\n",
    "    plt.show()\n",
    "    \n",
    "analyze_lineup_performance(lineups)"
   ]
  },
  {
   "cell_type": "markdown",
   "metadata": {},
   "source": [
    "## Save Optimized Lineups"
   ]
  }
 ],
 "metadata": {
  "kernelspec": {
   "display_name": "Python 3",
   "language": "python",
   "name": "python3"
  },
  "language_info": {
   "codemirror_mode": {
    "name": "ipython",
    "version": 3
   },
   "file_extension": ".py",
   "mimetype": "text/x-python",
   "name": "python",
   "nbconvert_exporter": "python",
   "pygments_lexer": "ipython3",
   "version": "3.8.0"
  }
 },
 "nbformat": 4,
 "nbformat_minor": 4
}
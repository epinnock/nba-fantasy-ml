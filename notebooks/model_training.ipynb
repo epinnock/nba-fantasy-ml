{
 "cells": [
  {
   "cell_type": "markdown",
   "metadata": {},
   "source": [
    "# NBA Fantasy Model Training\n",
    "\n",
    "This notebook implements the model training methodology from Papageorgiou et al. (2024), creating individual models for each player using an ensemble approach.\n",
    "\n",
    "## Setup and Data Loading"
   ]
  },
  {
   "cell_type": "code",
   "execution_count": null,
   "metadata": {},
   "source": [
    "import sys\n",
    "sys.path.append('..')\n",
    "\n",
    "import pandas as pd\n",
    "import numpy as np\n",
    "import matplotlib.pyplot as plt\n",
    "import seaborn as sns\n",
    "import yaml\n",
    "from datetime import datetime\n",
    "from tqdm.notebook import tqdm\n",
    "\n",
    "from src.models.trainer import ModelTrainer\n",
    "from src.models.predictor import Predictor\n",
    "\n",
    "from sklearn.metrics import mean_absolute_error, mean_absolute_percentage_error, r2_score\n",
    "from sklearn.model_selection import train_test_split\n",
    "\n",
    "# Set plotting style\n",
    "plt.style.use('seaborn')\n",
    "%matplotlib inline"
   ]
  },
  {
   "cell_type": "code",
   "execution_count": null,
   "metadata": {},
   "source": [
    "# Load processed features\n",
    "features_df = pd.read_csv('../data/processed/features.csv')\n",
    "feature_metadata = pd.read_csv('../data/processed/feature_metadata.csv')\n",
    "\n",
    "# Load configuration\n",
    "with open('../config.yaml', 'r') as f:\n",
    "    config = yaml.safe_load(f)\n",
    "\n",
    "print(f\"Loaded {len(features_df)} records with {len(feature_metadata)} features\")"
   ]
  },
  {
   "cell_type": "markdown",
   "metadata": {},
   "source": [
    "## Data Preparation\n",
    "\n",
    "Split data by player and prepare training/validation sets."
   ]
  },
  {
   "cell_type": "code",
   "execution_count": null,
   "metadata": {},
   "source": [
    "def prepare_player_data(df, player_id):\n",
    "    \"\"\"Prepare data for a specific player.\"\"\"\n",
    "    player_df = df[df['PLAYER_ID'] == player_id].copy()\n",
    "    \n",
    "    # Sort by date\n",
    "    player_df['GAME_DATE'] = pd.to_datetime(player_df['GAME_DATE'])\n",
    "    player_df = player_df.sort_values('GAME_DATE')\n",
    "    \n",
    "    # Select features\n",
    "    feature_cols = feature_metadata[feature_metadata['type'].isin(\n",
    "        ['lag', 'rolling', 'momentum']\n",
    "    )]['feature'].tolist()\n",
    "    \n",
    "    X = player_df[feature_cols]\n",
    "    y = player_df['FANTASY_POINTS']\n",
    "    \n",
    "    return X, y\n",
    "\n",
    "# Get unique players\n",
    "players = features_df['PLAYER_ID'].unique()\n",
    "print(f\"Found {len(players)} unique players\")"
   ]
  },
  {
   "cell_type": "markdown",
   "metadata": {},
   "source": [
    "## Model Training\n",
    "\n",
    "Train individual models for each player using the ensemble approach."
   ]
  },
  {
   "cell_type": "code",
   "execution_count": null,
   "metadata": {},
   "source": [
    "def train_player_model(X, y, player_id):\n",
    "    \"\"\"Train model for a specific player.\"\"\"\n",
    "    # Split data\n",
    "    split_idx = int(len(X) * 0.7)  # 70% train, 20% test, 10% validation\n",
    "    test_idx = int(len(X) * 0.9)\n",
    "    \n",
    "    X_train = X[:split_idx]\n",
    "    y_train = y[:split_idx]\n",
    "    X_test = X[split_idx:test_idx]\n",
    "    y_test = y[split_idx:test_idx]\n",
    "    X_val = X[test_idx:]\n",
    "    y_val = y[test_idx:]\n",
    "    \n",
    "    # Initialize trainer\n",
    "    trainer = ModelTrainer()\n",
    "    \n",
    "    # Train model\n",
    "    model = trainer.train_model(X_train, y_train)\n",
    "    \n",
    "    # Evaluate\n",
    "    train_pred = model.predict(X_train)\n",
    "    test_pred = model.predict(X_test)\n",
    "    val_pred = model.predict(X_val)\n",
    "    \n",
    "    metrics = {\n",
    "        'train_mae': mean_absolute_error(y_train, train_pred),\n",
    "        'train_mape': mean_absolute_percentage_error(y_train, train_pred) * 100,\n",
    "        'test_mae': mean_absolute_error(y_test, test_pred),\n",
    "        'test_mape': mean_absolute_percentage_error(y_test, test_pred) * 100,\n",
    "        'val_mae': mean_absolute_error(y_val, val_pred),\n",
    "        'val_mape': mean_absolute_percentage_error(y_val, val_pred) * 100\n",
    "    }\n",
    "    \n",
    "    return model, metrics\n",
    "\n",
    "# Train models for all players\n",
    "player_models = {}\n",
    "model_metrics = []\n",
    "\n",
    "for player_id in tqdm(players, desc=\"Training models\"):\n",
    "    X, y = prepare_player_data(features_df, player_id)\n",
    "    model, metrics = train_player_model(X, y, player_id)\n",
    "    \n",
    "    player_models[player_id] = model\n",
    "    metrics['player_id'] = player_id\n",
    "    model_metrics.append(metrics)\n",
    "    \n",
    "metrics_df = pd.DataFrame(model_metrics)"
   ]
  },
  {
   "cell_type": "markdown",
   "metadata": {},
   "source": [
    "## Model Performance Analysis"
   ]
  },
  {
   "cell_type": "code",
   "execution_count": null,
   "metadata": {},
   "source": [
    "# Plot distribution of metrics\n",
    "fig, axes = plt.subplots(2, 1, figsize=(12, 8))\n",
    "\n",
    "sns.histplot(data=metrics_df, x='val_mae', ax=axes[0])\n",
    "axes[0].set_title('Distribution of Validation MAE')\n",
    "\n",
    "sns.histplot(data=metrics_df, x='val_mape', ax=axes[1])\n",
    "axes[1].set_title('Distribution of Validation MAPE')\n",
    "\n",
    "plt.tight_layout()\n",
    "plt.show()\n",
    "\n",
    "# Print average metrics\n",
    "print(\"\\nAverage Metrics:\")\n",
    "print(f\"Validation MAE: {metrics_df['val_mae'].mean():.2f} ± {metrics_df['val_mae'].std():.2f}\")\n",
    "print(f\"Validation MAPE: {metrics_df['val_mape'].mean():.2f}% ± {metrics_df['val_mape'].std():.2f}%\")"
   ]
  },
  {
   "cell_type": "markdown",
   "metadata": {},
   "source": [
    "## Model Analysis by Position"
   ]
  },
  {
   "cell_type": "code",
   "execution_count": null,
   "metadata": {},
   "source": [
    "# Add player info to metrics\n",
    "player_info = pd.read_csv('../data/raw/player_info.csv')\n",
    "metrics_df = metrics_df.merge(player_info[['PLAYER_ID', 'POSITION']], \n",
    "                             left_on='player_id', \n",
    "                             right_on='PLAYER_ID')\n",
    "\n",
    "# Plot metrics by position\n",
    "plt.figure(figsize=(12, 6))\n",
    "sns.boxplot(data=metrics_df, x='POSITION', y='val_mape')\n",
    "plt.title('Model Performance by Position')\n",
    "plt.ylabel('Validation MAPE (%)')\n",
    "plt.show()\n",
    "\n",
    "# Print average metrics by position\n",
    "position_metrics = metrics_df.groupby('POSITION')['val_mape'].agg(['mean', 'std'])\n",
    "print(\"\\nAverage MAPE by Position:\")\n",
    "print(position_metrics)"
   ]
  },
  {
   "cell_type": "markdown",
   "metadata": {},
   "source": [
    "## Feature Importance Analysis"
   ]
  },
  {
   "cell_type": "code",
   "execution_count": null,
   "metadata": {},
   "source": [
    "def get_feature_importance(model, feature_names):\n",
    "    \"\"\"Extract feature importance from model.\"\"\"\n",
    "    if hasattr(model, 'feature_importances_'):\n",
    "        return model.feature_importances_\n",
    "    elif hasattr(model, 'coef_'):\n",
    "        return np.abs(model.coef_)\n",
    "    return None\n",
    "\n",
    "# Get average feature importance across all players\n",
    "feature_importance = []\n",
    "feature_names = feature_metadata[feature_metadata['type'].isin(\n",
    "    ['lag', 'rolling', 'momentum']\n",
    ")]['feature'].tolist()\n",
    "\n",
    "for player_id, model in player_models.items():\n",
    "    importance = get_feature_importance(model.estimators_[0], feature_names)\n",
    "    if importance is not None:\n",
    "        feature_importance.append(importance)\n",
    "\n",
    "avg_importance = np.mean(feature_importance, axis=0)\n",
    "\n",
    "# Plot top features\n",
    "importance_df = pd.DataFrame({\n",
    "    'feature': feature_names,\n",
    "    'importance': avg_importance\n",
    "}).sort_values('importance', ascending=False)\n",
    "\n",
    "plt.figure(figsize=(12, 6))\n",
    "sns.barplot(data=importance_df.head(15), x='importance', y='feature')\n",
    "plt.title('Top 15 Most Important Features')\n",
    "plt.tight_layout()\n",
    "plt.show()"
   ]
  },
  {
   "cell_type": "markdown",
   "metadata": {},
   "source": [
    "## Save Models"
   ]
  },
  {
   "cell_type": "code",
   "execution_count": null,
   "metadata": {},
   "source": [
    "import joblib\n",
    "import os\n",
    "\n",
    "# Save models\n",
    "os.makedirs('../models', exist_ok=True)\n",
    "\n",
    "for player_id, model in player_models.items():\n",
    "    joblib.dump(model, f'../models/player_{player_id}.joblib')\n",
    "    \n",
    "# Save metrics\n",
    "metrics_df.to_csv('../models/model_metrics.csv', index=False)\n",
    "\n",
    "# Save feature importance\n",
    "importance_df.to_csv('../models/feature_importance.csv', index=False)\n",
    "\n",
    "print(\"Models and metrics saved successfully!\")"
   ]
  },
  {
   "cell_type": "markdown",
   "metadata": {},
   "source": [
    "## Model Performance Summary\n",
    "\n",
    "1. Overall Performance:\n",
    "   - Average Validation MAE: {metrics_df['val_mae'].mean():.2f}\n",
    "   - Average Validation MAPE: {metrics_df['val_mape'].mean():.2f}%\n",
    "\n",
    "2. Key Findings:\n",
    "   - Most important features are recent performance indicators\n",
    "   - Performance varies by player position\n",
    "   - Model generalizes well across different player types\n",
    "\n",
    "3. Next Steps:\n",
    "   - Use models for lineup optimization\n",
    "   - Monitor performance and update models as needed\n",
    "   - Consider position-specific feature engineering"
   ]
  }
 ],
 "metadata": {
  "kernelspec": {
   "display_name": "Python 3",
   "language": "python",
   "name": "python3"
  },
  "language_info": {
   "codemirror_mode": {
    "name": "ipython",
    "version": 3
   },
   "file_extension": ".py",
   "mimetype": "text/x-python",
   "name": "python",
   "nbconvert_exporter": "python",
   "pygments_lexer": "ipython3",
   "version": "3.8.0"
  }
 },
 "nbformat": 4,
 "nbformat_minor": 4
}
{
 "cells": [
  {
   "cell_type": "markdown",
   "metadata": {},
   "source": [
    "# NBA Fantasy Data Collection\n",
    "\n",
    "This notebook demonstrates the data collection process for NBA player performance prediction, following the methodology from Papageorgiou et al. (2024).\n",
    "\n",
    "## Setup"
   ]
  },
  {
   "cell_type": "code",
   "execution_count": null,
   "metadata": {},
   "source": [
    "import sys\n",
    "sys.path.append('..')\n",
    "\n",
    "import pandas as pd\n",
    "import numpy as np\n",
    "import matplotlib.pyplot as plt\n",
    "import seaborn as sns\n",
    "import yaml\n",
    "from datetime import datetime\n",
    "from tqdm.notebook import tqdm\n",
    "\n",
    "from src.data.collector import NBADataCollector\n",
    "\n",
    "# Set plotting style\n",
    "plt.style.use('seaborn')\n",
    "%matplotlib inline"
   ]
  },
  {
   "cell_type": "markdown",
   "metadata": {},
   "source": [
    "## Load Configuration"
   ]
  },
  {
   "cell_type": "code",
   "execution_count": null,
   "metadata": {},
   "source": [
    "# Load configuration\n",
    "with open('../config.yaml', 'r') as f:\n",
    "    config = yaml.safe_load(f)\n",
    "\n",
    "# Extract data collection parameters\n",
    "SEASONS = config['data']['seasons']\n",
    "MIN_GAMES = config['data']['min_games_played']\n",
    "MIN_MINUTES = config['data']['min_minutes_per_game']\n",
    "\n",
    "print(f\"Collecting data for seasons: {SEASONS}\")\n",
    "print(f\"Minimum games required: {MIN_GAMES}\")\n",
    "print(f\"Minimum minutes per game: {MIN_MINUTES}\")"
   ]
  },
  {
   "cell_type": "markdown",
   "metadata": {},
   "source": [
    "## Initialize Data Collector"
   ]
  },
  {
   "cell_type": "code",
   "execution_count": null,
   "metadata": {},
   "source": [
    "collector = NBADataCollector(rate_limit_pause=1.0)\n",
    "\n",
    "# Get list of active players\n",
    "active_players = collector.get_active_players()\n",
    "print(f\"Found {len(active_players)} active players\")"
   ]
  },
  {
   "cell_type": "markdown",
   "metadata": {},
   "source": [
    "## Filter Eligible Players\n",
    "\n",
    "Following the paper's methodology, we'll filter for players who meet minimum game and playing time requirements."
   ]
  },
  {
   "cell_type": "code",
   "execution_count": null,
   "metadata": {},
   "source": [
    "def check_player_eligibility(player_data):\n",
    "    \"\"\"Check if player meets minimum requirements.\"\"\"\n",
    "    if player_data is None or player_data['games'] is None:\n",
    "        return False\n",
    "        \n",
    "    games = player_data['games']\n",
    "    return len(games) >= MIN_GAMES and games['MIN'].mean() >= MIN_MINUTES\n",
    "\n",
    "# Collect and filter players\n",
    "eligible_players = []\n",
    "player_data_dict = {}\n",
    "\n",
    "for player in tqdm(active_players, desc=\"Collecting player data\"):\n",
    "    player_id = player['id']\n",
    "    \n",
    "    # Collect player data\n",
    "    data = collector.collect_player_data(\n",
    "        player_id=player_id,\n",
    "        seasons=SEASONS,\n",
    "        include_info=True\n",
    "    )\n",
    "    \n",
    "    if check_player_eligibility(data):\n",
    "        eligible_players.append(player)\n",
    "        player_data_dict[player_id] = data\n",
    "\n",
    "print(f\"Found {len(eligible_players)} eligible players\")"
   ]
  },
  {
   "cell_type": "markdown",
   "metadata": {},
   "source": [
    "## Analyze Player Distribution"
   ]
  },
  {
   "cell_type": "code",
   "execution_count": null,
   "metadata": {},
   "source": [
    "# Create position distribution plot\n",
    "position_counts = pd.Series([p['info']['POSITION'] for p in player_data_dict.values()])\n",
    "\n",
    "plt.figure(figsize=(10, 6))\n",
    "position_counts.value_counts().plot(kind='bar')\n",
    "plt.title('Distribution of Player Positions')\n",
    "plt.xlabel('Position')\n",
    "plt.ylabel('Count')\n",
    "plt.tight_layout()\n",
    "plt.show()"
   ]
  },
  {
   "cell_type": "markdown",
   "metadata": {},
   "source": [
    "## Create Combined Dataset"
   ]
  },
  {
   "cell_type": "code",
   "execution_count": null,
   "metadata": {},
   "source": [
    "# Combine all player games into single DataFrame\n",
    "all_games = []\n",
    "\n",
    "for player_id, data in player_data_dict.items():\n",
    "    games = data['games'].copy()\n",
    "    games['PLAYER_ID'] = player_id\n",
    "    \n",
    "    # Add player info\n",
    "    for key in ['POSITION', 'TEAM_ID']:\n",
    "        games[key] = data['info'][key]\n",
    "        \n",
    "    all_games.append(games)\n",
    "\n",
    "combined_df = pd.concat(all_games, ignore_index=True)\n",
    "print(f\"Combined dataset shape: {combined_df.shape}\")\n",
    "combined_df.head()"
   ]
  },
  {
   "cell_type": "markdown",
   "metadata": {},
   "source": [
    "## Analyze Game Statistics"
   ]
  },
  {
   "cell_type": "code",
   "execution_count": null,
   "metadata": {},
   "source": [
    "# Plot distribution of key statistics\n",
    "key_stats = ['PTS', 'REB', 'AST', 'MIN']\n",
    "\n",
    "fig, axes = plt.subplots(2, 2, figsize=(15, 10))\n",
    "for ax, stat in zip(axes.flat, key_stats):\n",
    "    sns.histplot(data=combined_df, x=stat, ax=ax)\n",
    "    ax.set_title(f'Distribution of {stat}')\n",
    "    \n",
    "plt.tight_layout()\n",
    "plt.show()"
   ]
  },
  {
   "cell_type": "markdown",
   "metadata": {},
   "source": [
    "## Save Collected Data"
   ]
  },
  {
   "cell_type": "code",
   "execution_count": null,
   "metadata": {},
   "source": [
    "# Save combined dataset\n",
    "combined_df.to_csv('../data/raw/all_games.csv', index=False)\n",
    "\n",
    "# Save player info\n",
    "player_info = pd.DataFrame([data['info'] for data in player_data_dict.values()])\n",
    "player_info.to_csv('../data/raw/player_info.csv', index=False)\n",
    "\n",
    "print(\"Data saved successfully!\")"
   ]
  },
  {
   "cell_type": "markdown",
   "metadata": {},
   "source": [
    "## Data Quality Check"
   ]
  },
  {
   "cell_type": "code",
   "execution_count": null,
   "metadata": {},
   "source": [
    "def print_data_quality_report(df):\n",
    "    \"\"\"Print basic data quality metrics.\"\"\"\n",
    "    print(\"Data Quality Report\\n\")\n",
    "    print(f\"Number of records: {len(df)}\")\n",
    "    print(f\"Number of features: {df.shape[1]}\\n\")\n",
    "    \n",
    "    print(\"Missing values:\")\n",
    "    missing = df.isnull().sum()\n",
    "    print(missing[missing > 0])\n",
    "    print(\"\\nFeature datatypes:\")\n",
    "    print(df.dtypes)\n",
    "\n",
    "print_data_quality_report(combined_df)"
   ]
  },
  {
   "cell_type": "markdown",
   "metadata": {},
   "source": [
    "## Next Steps\n",
    "\n",
    "The collected data will be used in the next notebook for processing and feature engineering. Key points from this collection phase:\n",
    "\n",
    "1. Successfully collected data for {len(eligible_players)} eligible players\n",
    "2. Created a combined dataset with {combined_df.shape[0]} game records\n",
    "3. Saved raw data for further processing\n",
    "\n",
    "Data quality looks good with minimal missing values and appropriate data types."
   ]
  }
 ],
 "metadata": {
  "kernelspec": {
   "display_name": "Python 3",
   "language": "python",
   "name": "python3"
  },
  "language_info": {
   "codemirror_mode": {
    "name": "ipython",
    "version": 3
   },
   "file_extension": ".py",
   "mimetype": "text/x-python",
   "name": "python",
   "nbconvert_exporter": "python",
   "pygments_lexer": "ipython3",
   "version": "3.8.0"
  }
 },
 "nbformat": 4,
 "nbformat_minor": 4
}